{
 "cells": [
  {
   "cell_type": "markdown",
   "metadata": {},
   "source": [
    "# Dictionaries and structuring data"
   ]
  },
  {
   "cell_type": "code",
   "execution_count": 1,
   "metadata": {},
   "outputs": [
    {
     "name": "stdout",
     "output_type": "stream",
     "text": [
      "fat\n"
     ]
    }
   ],
   "source": [
    "myCat = {\"size\": \"fat\", \"color\": \"grey\", \"disposition\": \"loud\"}\n",
    "print (myCat[\"size\"])"
   ]
  },
  {
   "cell_type": "code",
   "execution_count": 2,
   "metadata": {},
   "outputs": [
    {
     "name": "stdout",
     "output_type": "stream",
     "text": [
      "My cat has grey fur.\n"
     ]
    }
   ],
   "source": [
    "print (\"My cat has \" + myCat[\"color\"] + \" fur.\")"
   ]
  },
  {
   "cell_type": "markdown",
   "metadata": {},
   "source": [
    "Like a list, a dictionary is a collection of many values. But unlike indexes for lists, indexes for dictionaries can use many different data types, not just integers. Indexes for dictionaries are called keys, and a key with its associated value is called a key-value pair.\n",
    "\n",
    "Dictionaries can still use integer values as keys, just like lists use integers for indexes, but they do not have to start at 0 and can be any number."
   ]
  },
  {
   "cell_type": "markdown",
   "metadata": {},
   "source": [
    "Unlike lists, items in dictionaries are unordered. The first item in a list named spam would be `spam[0]`. But there is no “first” item in a dictionary. While the order of items matters for determining whether two lists are the same, it does not matter in what order the key-value pairs are typed in a dictionary. "
   ]
  },
  {
   "cell_type": "markdown",
   "metadata": {},
   "source": [
    "List:\n"
   ]
  },
  {
   "cell_type": "code",
   "execution_count": 3,
   "metadata": {},
   "outputs": [
    {
     "data": {
      "text/plain": [
       "False"
      ]
     },
     "execution_count": 3,
     "metadata": {},
     "output_type": "execute_result"
    }
   ],
   "source": [
    "spam = [\"cats\", \"dogs\", \"moose\"]\n",
    "bacon = [\"dogs\", \"moose\", \"cats\"]\n",
    "spam == bacon"
   ]
  },
  {
   "cell_type": "markdown",
   "metadata": {},
   "source": [
    "Dictionary:"
   ]
  },
  {
   "cell_type": "code",
   "execution_count": 4,
   "metadata": {},
   "outputs": [
    {
     "data": {
      "text/plain": [
       "True"
      ]
     },
     "execution_count": 4,
     "metadata": {},
     "output_type": "execute_result"
    }
   ],
   "source": [
    "person1 = {\"name\": \"Silfa\", \"species\": \"human\", \"age\": \"33\"}\n",
    "person2 = {\"species\": \"human\", \"age\": \"33\", \"name\": \"Silfa\"}\n",
    "person1 == person2\n"
   ]
  },
  {
   "cell_type": "markdown",
   "metadata": {},
   "source": [
    "Because dictionaries are not ordered, they can’t be sliced like lists."
   ]
  },
  {
   "cell_type": "markdown",
   "metadata": {},
   "source": [
    "Though dictionaries are not ordered, the fact that you can have arbitrary values for the keys allows you to organize your data in powerful ways. Say you wanted your program to store data about your friends’ birthdays. You can use a dictionary with the names as keys and the birthdays as values."
   ]
  },
  {
   "cell_type": "code",
   "execution_count": 5,
   "metadata": {},
   "outputs": [
    {
     "name": "stdout",
     "output_type": "stream",
     "text": [
      "Enter a name: (blank to quit)\n",
      "Duncan\n",
      "I do not have birthday information for Duncan\n",
      "What is their birthday?\n",
      "2 July 1984\n",
      "Birthday database updated\n",
      "Enter a name: (blank to quit)\n",
      "Silfa\n",
      "I do not have birthday information for Silfa\n",
      "What is their birthday?\n",
      "28 July 1984\n",
      "Birthday database updated\n",
      "Enter a name: (blank to quit)\n",
      "Duncan\n",
      "Duncan's birthday is on 2 July 1984\n",
      "Enter a name: (blank to quit)\n",
      "Soofa\n",
      "I do not have birthday information for Soofa\n",
      "What is their birthday?\n",
      "quit\n",
      "Birthday database updated\n",
      "Enter a name: (blank to quit)\n",
      "\n"
     ]
    }
   ],
   "source": [
    "#Create an initial dictionary and store it in birthdays\n",
    "birthdays = {\"Alice\": \"Apr 1\", \"Bob\": \"Dec 12\", \"Carol\": \"Mar 4\"}\n",
    "\n",
    "#Create an input for name\n",
    "while True:\n",
    "    print (\"Enter a name: (blank to quit)\")\n",
    "    name = input()\n",
    "    if name == \"\":\n",
    "        break\n",
    "\n",
    "#You can see if the entered name exists as a key in the dictionary with the \"in\" keyword\n",
    "#If the name is in the dictionary, you access the associated value with square brackets  \n",
    "    if name in birthdays:\n",
    "       \n",
    "        print (name + \"'s birthday is on \" + birthdays[name])\n",
    "     \n",
    "        \n",
    "#If name is not yet in the dictionary, add it \n",
    "    else: \n",
    "        print (\"I do not have birthday information for \" + name)\n",
    "        print (\"What is their birthday?\")\n",
    "        bday = input()\n",
    "        birthdays[name] = bday\n",
    "        print (\"Birthday database updated\")"
   ]
  },
  {
   "cell_type": "markdown",
   "metadata": {},
   "source": [
    "## The keys(), values() and items() methods\n"
   ]
  },
  {
   "cell_type": "markdown",
   "metadata": {},
   "source": [
    "There are three dictionary methods that will return list-like values of the dictionary’s keys, values, or both keys and values: `keys()`, `values()`, and `items()`. The values returned by these methods are not true lists: They cannot be modified and do not have an `append()` method. But these data types (`dict_keys`, `dict_values`, and `dict_items`, respectively) can be used in for loops. "
   ]
  },
  {
   "cell_type": "code",
   "execution_count": 6,
   "metadata": {},
   "outputs": [
    {
     "name": "stdout",
     "output_type": "stream",
     "text": [
      "red\n",
      "42\n"
     ]
    }
   ],
   "source": [
    "spam1 = {\"color\": \"red\", \"age\": \"42\"}\n",
    "for v in spam1.values():\n",
    "    print(v)"
   ]
  },
  {
   "cell_type": "markdown",
   "metadata": {},
   "source": [
    "A `for` loop iterates over each of the values in the `spam1` dictionary. A `for` loop can also iterate over the keys or both keys and values."
   ]
  },
  {
   "cell_type": "code",
   "execution_count": 7,
   "metadata": {},
   "outputs": [
    {
     "name": "stdout",
     "output_type": "stream",
     "text": [
      "color\n",
      "age\n"
     ]
    }
   ],
   "source": [
    "for k in spam1.keys():\n",
    "    print(k)"
   ]
  },
  {
   "cell_type": "code",
   "execution_count": 8,
   "metadata": {},
   "outputs": [
    {
     "name": "stdout",
     "output_type": "stream",
     "text": [
      "('color', 'red')\n",
      "('age', '42')\n"
     ]
    }
   ],
   "source": [
    "for i in spam1.items():\n",
    "    print(i)"
   ]
  },
  {
   "cell_type": "markdown",
   "metadata": {},
   "source": [
    "Using the `keys()`, `values()`, and `items()` methods, a `for` loop can iterate over the keys, values or key-value pairs in a dictionary, respectively. Notice that the values in the `dict_items` value returned by the `items()` method are tuples of the key and value. \n",
    "\n",
    "If you want a true list from one of these methods, pass its list-like return value to the `list()` function. "
   ]
  },
  {
   "cell_type": "code",
   "execution_count": 9,
   "metadata": {},
   "outputs": [
    {
     "data": {
      "text/plain": [
       "dict_keys(['color', 'age'])"
      ]
     },
     "execution_count": 9,
     "metadata": {},
     "output_type": "execute_result"
    }
   ],
   "source": [
    "spam1.keys()"
   ]
  },
  {
   "cell_type": "code",
   "execution_count": 10,
   "metadata": {},
   "outputs": [
    {
     "data": {
      "text/plain": [
       "['color', 'age']"
      ]
     },
     "execution_count": 10,
     "metadata": {},
     "output_type": "execute_result"
    }
   ],
   "source": [
    "list(spam1.keys())"
   ]
  },
  {
   "cell_type": "markdown",
   "metadata": {},
   "source": [
    "The `list(spam1.keys())` line takes the `dict_keys` value returned from `keys()` and passes it to `list()`, which then returns a list value of `{\"color\", \"age\"}`.\n",
    "\n",
    "You can also use the multiple assignment trick in a `for` loop to assign the key and value to separate variables. "
   ]
  },
  {
   "cell_type": "code",
   "execution_count": 11,
   "metadata": {},
   "outputs": [
    {
     "name": "stdout",
     "output_type": "stream",
     "text": [
      "Key: color, Value: red\n",
      "Key: age, Value: 42\n"
     ]
    }
   ],
   "source": [
    "for k, v in spam1.items():\n",
    "    print(\"Key: \" + k + \", Value: \" + str(v))"
   ]
  },
  {
   "cell_type": "markdown",
   "metadata": {},
   "source": [
    "## Checking whether a key or value exists in a dictionary"
   ]
  },
  {
   "cell_type": "markdown",
   "metadata": {},
   "source": [
    "The `in` and `not in` operators can check whether a value exists in a list. You can also use these operators to see whether a certain key or value exists in a dictionary."
   ]
  },
  {
   "cell_type": "code",
   "execution_count": 12,
   "metadata": {},
   "outputs": [
    {
     "data": {
      "text/plain": [
       "True"
      ]
     },
     "execution_count": 12,
     "metadata": {},
     "output_type": "execute_result"
    }
   ],
   "source": [
    "spam3 = {\"name\": \"Silfa\", \"age\": \"33\"}\n",
    "\"name\" in spam3.keys()"
   ]
  },
  {
   "cell_type": "code",
   "execution_count": 13,
   "metadata": {},
   "outputs": [
    {
     "data": {
      "text/plain": [
       "True"
      ]
     },
     "execution_count": 13,
     "metadata": {},
     "output_type": "execute_result"
    }
   ],
   "source": [
    "\"Silfa\" in spam3.values()"
   ]
  },
  {
   "cell_type": "code",
   "execution_count": 14,
   "metadata": {},
   "outputs": [
    {
     "data": {
      "text/plain": [
       "True"
      ]
     },
     "execution_count": 14,
     "metadata": {},
     "output_type": "execute_result"
    }
   ],
   "source": [
    "\"Color\" not in spam3.keys()"
   ]
  },
  {
   "cell_type": "code",
   "execution_count": 15,
   "metadata": {},
   "outputs": [
    {
     "data": {
      "text/plain": [
       "False"
      ]
     },
     "execution_count": 15,
     "metadata": {},
     "output_type": "execute_result"
    }
   ],
   "source": [
    "\"color\" in spam3.keys()"
   ]
  },
  {
   "cell_type": "code",
   "execution_count": 16,
   "metadata": {},
   "outputs": [
    {
     "data": {
      "text/plain": [
       "False"
      ]
     },
     "execution_count": 16,
     "metadata": {},
     "output_type": "execute_result"
    }
   ],
   "source": [
    "\"color\" in spam3 #a shorter version of the previous command"
   ]
  },
  {
   "cell_type": "markdown",
   "metadata": {},
   "source": [
    "\n",
    "\n",
    "If you ever want to chekc whether a value is, or is not, a key in the dictionary, you can simply use the `in` or `not in` keyword with the dictionary value itself."
   ]
  },
  {
   "cell_type": "code",
   "execution_count": 17,
   "metadata": {},
   "outputs": [
    {
     "data": {
      "text/plain": [
       "False"
      ]
     },
     "execution_count": 17,
     "metadata": {},
     "output_type": "execute_result"
    }
   ],
   "source": [
    "\"Silfa\" in spam1"
   ]
  },
  {
   "cell_type": "code",
   "execution_count": 18,
   "metadata": {},
   "outputs": [
    {
     "data": {
      "text/plain": [
       "False"
      ]
     },
     "execution_count": 18,
     "metadata": {},
     "output_type": "execute_result"
    }
   ],
   "source": [
    "\"Silfa\" in spam1.values()"
   ]
  },
  {
   "cell_type": "markdown",
   "metadata": {},
   "source": [
    "## The get() method"
   ]
  },
  {
   "cell_type": "markdown",
   "metadata": {},
   "source": [
    "It's tedious to check whether a key exists in a dictionary before accessing that key's value. Fortunately, dictionaries have a `get()` method that takes two arguments: the key of the value to retrieve and a fallback value to return if that key does not exist. "
   ]
  },
  {
   "cell_type": "code",
   "execution_count": 19,
   "metadata": {},
   "outputs": [
    {
     "name": "stdout",
     "output_type": "stream",
     "text": [
      "I am bringing 2 cups.\n"
     ]
    }
   ],
   "source": [
    "picnic_items = {\"apples\": 5, \"cups\": 2}\n",
    "print (\"I am bringing \" + str(picnic_items.get(\"cups\", 0)) + \" cups.\")"
   ]
  },
  {
   "cell_type": "code",
   "execution_count": 20,
   "metadata": {},
   "outputs": [
    {
     "name": "stdout",
     "output_type": "stream",
     "text": [
      "I am bringing also 0 eggs.\n"
     ]
    }
   ],
   "source": [
    "print (\"I am bringing also \" + str(picnic_items.get(\"eggs\", 0)) + \" eggs.\")"
   ]
  },
  {
   "cell_type": "markdown",
   "metadata": {},
   "source": [
    "Because there is no `eggs` key in the `picnic_items` dictionary, the default value `0` is returned by the `get()` method. Without using `get()`, the code would have caused an error message, such as in the following example:"
   ]
  },
  {
   "cell_type": "code",
   "execution_count": 21,
   "metadata": {},
   "outputs": [
    {
     "ename": "KeyError",
     "evalue": "'eggs'",
     "output_type": "error",
     "traceback": [
      "\u001b[0;31m---------------------------------------------------------------------------\u001b[0m",
      "\u001b[0;31mKeyError\u001b[0m                                  Traceback (most recent call last)",
      "\u001b[0;32m<ipython-input-21-0fe2b0445d90>\u001b[0m in \u001b[0;36m<module>\u001b[0;34m()\u001b[0m\n\u001b[0;32m----> 1\u001b[0;31m \u001b[0mprint\u001b[0m \u001b[0;34m(\u001b[0m\u001b[0;34m\"I am bringing \"\u001b[0m \u001b[0;34m+\u001b[0m \u001b[0mstr\u001b[0m\u001b[0;34m(\u001b[0m\u001b[0mpicnic_items\u001b[0m\u001b[0;34m[\u001b[0m\u001b[0;34m\"eggs\"\u001b[0m\u001b[0;34m]\u001b[0m\u001b[0;34m)\u001b[0m \u001b[0;34m+\u001b[0m \u001b[0;34m\" eggs.\"\u001b[0m\u001b[0;34m)\u001b[0m\u001b[0;34m\u001b[0m\u001b[0m\n\u001b[0m",
      "\u001b[0;31mKeyError\u001b[0m: 'eggs'"
     ]
    }
   ],
   "source": [
    "print (\"I am bringing \" + str(picnic_items[\"eggs\"]) + \" eggs.\")"
   ]
  },
  {
   "cell_type": "markdown",
   "metadata": {},
   "source": [
    "## The setdefault() method"
   ]
  },
  {
   "cell_type": "markdown",
   "metadata": {},
   "source": [
    "You will often have to set a value in a dictionary for a certain key only if that key does not already have a value. E.g. "
   ]
  },
  {
   "cell_type": "code",
   "execution_count": null,
   "metadata": {},
   "outputs": [],
   "source": [
    "spam4 = {\"name\": \"Pooka\", \"age\": \"3\"}\n",
    "\n",
    "if \"color\" not in spam:\n",
    "    spam4[\"color\"] = \"black\"\n",
    "\n",
    "print (spam4)"
   ]
  },
  {
   "cell_type": "markdown",
   "metadata": {},
   "source": [
    "The `setdefault()` method offers a way to do this in one line of code. The first argument passed to the method is the key to check for, and the second argument is the value to set at that key if the key does not exist. If the key does exist, the `setdefault()` method returns the key's value. "
   ]
  },
  {
   "cell_type": "code",
   "execution_count": null,
   "metadata": {},
   "outputs": [],
   "source": [
    "spam4.setdefault(\"size\", \"short\")\n",
    "\n"
   ]
  },
  {
   "cell_type": "markdown",
   "metadata": {},
   "source": [
    "The value for a key in the `setdefault()` method is not changed by providing a new value for it. "
   ]
  },
  {
   "cell_type": "code",
   "execution_count": null,
   "metadata": {},
   "outputs": [],
   "source": [
    "print (spam4)\n"
   ]
  },
  {
   "cell_type": "code",
   "execution_count": null,
   "metadata": {},
   "outputs": [],
   "source": [
    "spam4.setdefault(\"size\", \"large\")"
   ]
  },
  {
   "cell_type": "code",
   "execution_count": null,
   "metadata": {},
   "outputs": [],
   "source": [
    "print (spam4)"
   ]
  },
  {
   "cell_type": "markdown",
   "metadata": {},
   "source": [
    "The `setdefault()` method is a nice shortcut to ensure that a key exists. \n",
    "\n",
    "\n",
    "### Counting letters in a string\n",
    "Here is a short program that counts the number of occurrence of each letter in a string. \n",
    "\n",
    "The program loops over each character in the `message` variable's string, counting how often each character appears. The `setdefault()` method call ensures that the key is in the `count` dictionary (with the default value of 0) so that the program doesn't throw a `KeyError` when `count[character] + 1` is executed. "
   ]
  },
  {
   "cell_type": "code",
   "execution_count": null,
   "metadata": {},
   "outputs": [],
   "source": [
    "message = \"It was a bright cold day in April, and the clocks were striking thirteen.\"\n",
    "count = {}\n",
    "\n",
    "for character in message:\n",
    "    count.setdefault(character, 0)\n",
    "    count[character] = count[character] + 1\n",
    "\n",
    "print (count)\n",
    "\n",
    "\n",
    "print (list(count.values()))"
   ]
  },
  {
   "cell_type": "markdown",
   "metadata": {},
   "source": [
    "From the output, you can see that the lowercase letter c appears 3 times, the space character appears 13 times, and the uppercase A appears 1 time. This program will work no matter what string is inside the `message` variable, even if the string is millions of characters long!"
   ]
  },
  {
   "cell_type": "markdown",
   "metadata": {},
   "source": [
    "### Pretty printing"
   ]
  },
  {
   "cell_type": "markdown",
   "metadata": {},
   "source": [
    "If you import the `pprint` module into your pgrams, you'll have access to the `pprint()` and `pformat()` functions that will \"pretty print\" a dictionary's values. This is helpful when you want a cleaner display of the items in a dictionary than what `print()` provides. "
   ]
  },
  {
   "cell_type": "code",
   "execution_count": null,
   "metadata": {},
   "outputs": [],
   "source": [
    "import pprint\n",
    "pprint.pprint(count)\n"
   ]
  },
  {
   "cell_type": "markdown",
   "metadata": {},
   "source": [
    "This output looks much cleaner, and the keys are sorted.\n",
    "\n",
    "The `.pprint()` function is especially helpful when the dictionary itself contains nested lists or dictionaries.\n",
    "\n",
    "\n",
    "If you want to obtain the prettified text as a string value instead of displaying it on the screen, call `pprint.pformat()` instead. \n"
   ]
  },
  {
   "cell_type": "code",
   "execution_count": null,
   "metadata": {},
   "outputs": [],
   "source": [
    "print(pprint.pformat(count))\n",
    "print(type(pprint.pformat(count)))"
   ]
  },
  {
   "cell_type": "markdown",
   "metadata": {},
   "source": [
    "## Using data structures to model real-world things"
   ]
  },
  {
   "cell_type": "markdown",
   "metadata": {},
   "source": [
    "### Exercise: A tic-tac-toe board"
   ]
  },
  {
   "cell_type": "markdown",
   "metadata": {},
   "source": [
    "A tic-tac-toe board looks like a large hash symbol (#) with nine slots that can each contain an X, an O, or a blank. To represent the board with a dictionary, you can assign each slot a string-value key. \n",
    "\n",
    "You can use string values to represent what’s in each slot on the board: 'X', 'O', or ' ' (a space character). Thus, you’ll need to store nine strings. You can use a dictionary of values for this. The string value with the key 'top-R' can represent the top-right corner, the string value with the key 'low-L' can represent the bottom-left corner, the string value with the key 'mid-M' can represent the middle, and so on.\n",
    "\n",
    "This dictionary is a data structure that represents a tic-tac-toe board. Store this board-as-a-dictionary in a variable named theBoard. Open a new file editor window, and enter the following source code"
   ]
  },
  {
   "cell_type": "code",
   "execution_count": 23,
   "metadata": {
    "collapsed": true
   },
   "outputs": [],
   "source": [
    "theBoard = {\"top-L\": \" \", \"top-M\": \" \", \"top-R\": \" \", \n",
    "            \"mid-L\": \" \", \"mid-M\": \" \", \"mid-R\": \" \",\n",
    "            \"low-L\": \" \", \"low-M\": \" \", \"low-R\": \" \"}\n"
   ]
  },
  {
   "cell_type": "markdown",
   "metadata": {},
   "source": [
    "The data structure stored in the `theBoard` variable represents the tic-tac-toe board. Since the value for every key in `theBoard` is a single-spaced string, this dictionary represents a completely clear board. If play X went firt and chose the middle space, you could represent that board with the same dictionary, only with the entry `\"mid-M\": \"X\"`."
   ]
  },
  {
   "cell_type": "markdown",
   "metadata": {},
   "source": [
    "Let's create a function to print the board dictionary onto the screen. "
   ]
  },
  {
   "cell_type": "code",
   "execution_count": 24,
   "metadata": {},
   "outputs": [
    {
     "name": "stdout",
     "output_type": "stream",
     "text": [
      " | | \n",
      "-+-+-\n",
      " | | \n",
      "-+-+-\n",
      " | | \n"
     ]
    }
   ],
   "source": [
    "def printBoard(board):\n",
    "    print(board['top-L'] + '|' + board['top-M'] + '|' + board['top-R'])\n",
    "    print('-+-+-')\n",
    "    print(board['mid-L'] + '|' + board['mid-M'] + '|' + board['mid-R'])\n",
    "    print('-+-+-')\n",
    "    print(board['low-L'] + '|' + board['low-M'] + '|' + board['low-R'])\n",
    "printBoard(theBoard)\n"
   ]
  },
  {
   "cell_type": "markdown",
   "metadata": {},
   "source": [
    "If you change the `theBoard` dictionary, the modeled board will change."
   ]
  },
  {
   "cell_type": "markdown",
   "metadata": {},
   "source": [
    "Because you created a data structure to represent a tic-tac-toe board and wrote code in `printBoard()` to interpret that data structure, you now have a program that \"models\" the tic-tac-toe board.\n",
    "\n",
    "The `printBoard()` function expects the tic-tac-toe data structure to be a dictionary with keys for all nine slots. If the dictionary you passed was missing, e.g. the `mid-L` key, your program would no longer work."
   ]
  },
  {
   "cell_type": "markdown",
   "metadata": {},
   "source": [
    "Now let's add code that allows the players to enter their moves. "
   ]
  },
  {
   "cell_type": "code",
   "execution_count": 25,
   "metadata": {},
   "outputs": [
    {
     "name": "stdout",
     "output_type": "stream",
     "text": [
      " | | \n",
      "-+-+-\n",
      " | | \n",
      "-+-+-\n",
      " | | \n",
      "Turn for X. Move on which space?\n",
      "mid-M\n",
      " | | \n",
      "-+-+-\n",
      " |X| \n",
      "-+-+-\n",
      " | | \n",
      "Turn for O. Move on which space?\n",
      "top-R\n",
      " | |O\n",
      "-+-+-\n",
      " |X| \n",
      "-+-+-\n",
      " | | \n",
      "Turn for X. Move on which space?\n",
      "low-R\n",
      " | |O\n",
      "-+-+-\n",
      " |X| \n",
      "-+-+-\n",
      " | |X\n",
      "Turn for O. Move on which space?\n",
      "top-L\n",
      "O| |O\n",
      "-+-+-\n",
      " |X| \n",
      "-+-+-\n",
      " | |X\n",
      "Turn for X. Move on which space?\n",
      "top-M\n",
      "O|X|O\n",
      "-+-+-\n",
      " |X| \n",
      "-+-+-\n",
      " | |X\n",
      "Turn for O. Move on which space?\n",
      "low-M\n",
      "O|X|O\n",
      "-+-+-\n",
      " |X| \n",
      "-+-+-\n",
      " |O|X\n",
      "Turn for X. Move on which space?\n",
      "mid-L\n",
      "O|X|O\n",
      "-+-+-\n",
      "X|X| \n",
      "-+-+-\n",
      " |O|X\n",
      "Turn for O. Move on which space?\n",
      "mid-R\n",
      "O|X|O\n",
      "-+-+-\n",
      "X|X|O\n",
      "-+-+-\n",
      " |O|X\n",
      "Turn for X. Move on which space?\n",
      "low-R\n",
      "O|X|O\n",
      "-+-+-\n",
      "X|X|O\n",
      "-+-+-\n",
      " |O|X\n"
     ]
    }
   ],
   "source": [
    "turn = \"X\"\n",
    "\n",
    "for i in range(9):\n",
    "    #print the board at the start of each turn\n",
    "    printBoard(theBoard)\n",
    "    print (\"Turn for \" + turn + \". Move on which space?\")\n",
    "    \n",
    "    #get the active player's move\n",
    "    move = input()\n",
    "    \n",
    "    #update the game board accordingly\n",
    "    theBoard[move] = turn\n",
    "    \n",
    "    #swap player\n",
    "    if turn == \"X\":\n",
    "        turn = \"O\"\n",
    "    else:\n",
    "        turn = \"X\"\n",
    "\n",
    "printBoard(theBoard)"
   ]
  },
  {
   "cell_type": "markdown",
   "metadata": {},
   "source": [
    "## Nested dictionaries and lists"
   ]
  },
  {
   "cell_type": "markdown",
   "metadata": {},
   "source": [
    "Modeling a tic-tac-toe board was fairly simple: The board needed only a single dictionary value with nine key-value pairs. \n",
    "\n",
    "As you model more complicated things, you may find you need dictionaries and lists that contain other dictionaries and lists. Lists are useful to contain an ordered series of values, and dictionaries are useful for associating keys with values. \n",
    "\n",
    "For example, here’s a program that uses a dictionary that contains other dictionaries in order to see who is bringing what to a picnic. The `totalBrought()` function can read this data structure and calculate the total number of an item being brought by all the guests."
   ]
  },
  {
   "cell_type": "code",
   "execution_count": 30,
   "metadata": {},
   "outputs": [
    {
     "name": "stdout",
     "output_type": "stream",
     "text": [
      "Number of things being brought:\n",
      " - Apples         7\n",
      " - Cups           3\n",
      " - Cakes          0\n",
      " - Ham Sandwiches 3\n",
      " - Apple Pies     1\n"
     ]
    }
   ],
   "source": [
    "allGuests = {\"Alice\": {\"apples\": 5, \"pretzels\": 12}, \"Bob\": {\"ham sandwiches\": 3, \"apples\": 2}, \"Carol\": {\"cups\": 3, \"apple pies\": 1}}\n",
    "\n",
    "#define a function with the formal parameters guests and item\n",
    "def totalBrought(guests, item): \n",
    "    numBrought = 0\n",
    "    \n",
    "    #inside the totalBrought function, the for loop iterates over the key-value pairs in guests\n",
    "    for k, v in guests.items():\n",
    "        #get() gets a key's value. If the key does not exist, the value is 0\n",
    "        numBrought = numBrought + v.get(item, 0)\n",
    "    return numBrought\n",
    "\n",
    "print (\"Number of things being brought:\")\n",
    "\n",
    "#function totalBrought is called, with guests = allGuests and item = \"apples\", \"cups\", etc.\n",
    "#function is called with actual parameters \n",
    "print (\" - Apples         \" + str(totalBrought(allGuests, \"apples\")))\n",
    "print (\" - Cups           \" + str(totalBrought(allGuests, \"cups\")))\n",
    "print (\" - Cakes          \" + str(totalBrought(allGuests, \"cakes\")))\n",
    "print (\" - Ham Sandwiches \" + str(totalBrought(allGuests, \"ham sandwiches\")))\n",
    "print (\" - Apple Pies     \" + str(totalBrought(allGuests, \"apple pies\")))"
   ]
  },
  {
   "cell_type": "markdown",
   "metadata": {},
   "source": [
    "To remind you how functions work, here is another example of a function. in `sumProblem`, `x` and `y` are the formal parameters. When the function is called later on (inside another function called `main()`, actual parameters are provided). "
   ]
  },
  {
   "cell_type": "code",
   "execution_count": 31,
   "metadata": {},
   "outputs": [
    {
     "name": "stdout",
     "output_type": "stream",
     "text": [
      "The sum of 2 and 3 is 5.\n",
      "The sum of 1234456678 and 123823842 is 1358280520.\n",
      "Enter an integer: 3\n",
      "Enter another integer: 345\n",
      "The sum of 3 and 345 is 348.\n"
     ]
    }
   ],
   "source": [
    "def sumProblem(x, y):\n",
    "    sum = x + y\n",
    "    sentence = \"The sum of {} and {} is {}.\".format(x,y,sum)\n",
    "    print(sentence)\n",
    "\n",
    "def main():\n",
    "    sumProblem(2, 3)\n",
    "    sumProblem(1234456678, 123823842)\n",
    "    a = int(input(\"Enter an integer: \"))\n",
    "    b = int(input(\"Enter another integer: \"))\n",
    "    sumProblem(a, b)\n",
    "\n",
    "main()"
   ]
  },
  {
   "cell_type": "markdown",
   "metadata": {},
   "source": [
    "## Summary"
   ]
  },
  {
   "cell_type": "markdown",
   "metadata": {},
   "source": [
    "Lists and dictionaries are values that contain multiple values, including other lists and dictionaries. Dictionaries are useful because you can map one item (the key) to another (the value), as opposed to lists, which simply contain a series of values in order. Values inside a dictionary are accessed using square brackets just as with lists. Instead of an integer index, dictionaries can have keys of a variety of data types: integers, floats, strings or tuples. By organising a program's values into data structures, you can create representations of real-world objects."
   ]
  },
  {
   "cell_type": "code",
   "execution_count": null,
   "metadata": {
    "collapsed": true
   },
   "outputs": [],
   "source": []
  }
 ],
 "metadata": {
  "kernelspec": {
   "display_name": "Python 3",
   "language": "python",
   "name": "python3"
  },
  "language_info": {
   "codemirror_mode": {
    "name": "ipython",
    "version": 3
   },
   "file_extension": ".py",
   "mimetype": "text/x-python",
   "name": "python",
   "nbconvert_exporter": "python",
   "pygments_lexer": "ipython3",
   "version": "3.6.3"
  }
 },
 "nbformat": 4,
 "nbformat_minor": 2
}
