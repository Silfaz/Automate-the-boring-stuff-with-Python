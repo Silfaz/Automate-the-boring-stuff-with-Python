{
 "cells": [
  {
   "cell_type": "markdown",
   "metadata": {},
   "source": [
    "# Manipulating strings"
   ]
  },
  {
   "cell_type": "markdown",
   "metadata": {},
   "source": [
    "Text ist one of the most commong forms of data your programs will handle. You already know how to concatenate two string values together with the + operator, but you can do much more than that. You can extract partial strings from string values, add or remove spacing, convert letters to lowercase or uppercase, and check that strings are formatted correctly. You can even write Python code to access the clipboard for copying and pasting text.\n",
    "\n",
    "In this chapter, you'll learn all this and more. Then you'll work through two different programming projects: a simple password manager and a program to automate the boring chore of formatting pieces of text.\n",
    "\n",
    "## Working with strings\n",
    "\n",
    "Let's look at some of the ways Python lets you write, print and access strings in your code. \n",
    "\n",
    "## String literals\n",
    "\n",
    "Typing string values in Python code is fairly straightforward. They begin and end with a single quote. But then how can you use a quote inside a string? \n",
    "\n",
    "### Double quotes\n",
    "\n",
    "Use double quotes instead of single quotes:"
   ]
  },
  {
   "cell_type": "code",
   "execution_count": 2,
   "metadata": {},
   "outputs": [
    {
     "name": "stdout",
     "output_type": "stream",
     "text": [
      "That is Alice's cat\n"
     ]
    }
   ],
   "source": [
    "print (\"That is Alice's cat\")"
   ]
  },
  {
   "cell_type": "markdown",
   "metadata": {},
   "source": [
    "### Escape characters\n",
    "\n",
    "An escape character lets you use characters that are otherwise impossible to put into a string. It consists of a backslash (\\) followed by the character you want to add to the string. "
   ]
  },
  {
   "cell_type": "code",
   "execution_count": 3,
   "metadata": {},
   "outputs": [
    {
     "name": "stdout",
     "output_type": "stream",
     "text": [
      "That is Alice's cat\n"
     ]
    }
   ],
   "source": [
    "print ('That is Alice\\'s cat')"
   ]
  },
  {
   "cell_type": "markdown",
   "metadata": {},
   "source": [
    "Other escape characters are \\\" for double quote, \\t for tab, \\n for new line (line break) and \\\\ for backslash."
   ]
  },
  {
   "cell_type": "code",
   "execution_count": 5,
   "metadata": {},
   "outputs": [
    {
     "name": "stdout",
     "output_type": "stream",
     "text": [
      "Hello there!\tHow are you?\n",
      "I'm doing fine.\n"
     ]
    }
   ],
   "source": [
    "print(\"Hello there!\\tHow are you?\\nI\\'m doing fine.\")"
   ]
  },
  {
   "cell_type": "markdown",
   "metadata": {},
   "source": [
    "## Raw strings\n",
    "\n",
    "You can place an `r` before the beginning quotation mark of a string to make it a raw string. A raw string completely ignores all escapte characters and prints any backslashe that appears in the string."
   ]
  },
  {
   "cell_type": "code",
   "execution_count": 6,
   "metadata": {},
   "outputs": [
    {
     "name": "stdout",
     "output_type": "stream",
     "text": [
      "That is Carol\\'s cat.\n"
     ]
    }
   ],
   "source": [
    "print (r'That is Carol\\'s cat.')"
   ]
  },
  {
   "cell_type": "markdown",
   "metadata": {},
   "source": [
    "Because this is a raw string, Python considers the backslash as part of the string and not as the start of an escape character. Raw strings are helpful if you are typing string values that contain many backslashes, such as the strings used for regular expressions described in the next chapter. \n",
    "\n",
    "## Multiline strings with triple quotes\n",
    "\n",
    "While you can use the ´\\n´ escape character to put a new line into a string, it is often easire to use multiline strings. A multiline string in Python begins and ends with either three single quotes or three double quotes. Any quotes, tabs or new lines in between the triple quotes are considered part of the string. Python's indentation rules for blocks do not apply to lines inside a multiline string."
   ]
  },
  {
   "cell_type": "code",
   "execution_count": 12,
   "metadata": {},
   "outputs": [
    {
     "name": "stdout",
     "output_type": "stream",
     "text": [
      "Dear Alice, \n",
      "\n",
      "Eve's cat has been arrested for catnappingg, cat burglary and extortion.\n",
      "\n",
      "Sincerely, \n",
      "Bob\n"
     ]
    }
   ],
   "source": [
    "print ('''Dear Alice, \n",
    "\n",
    "Eve's cat has been arrested for catnappingg, cat burglary and extortion.\n",
    "\n",
    "Sincerely, \n",
    "Bob''' )"
   ]
  },
  {
   "cell_type": "markdown",
   "metadata": {},
   "source": [
    "Notice that the single quote character in `Eve's` doesn't need to be escaped. Escaping single and double quotes is optional in raw strings. \n",
    "\n",
    "The following `print()` call would print identical text, but doesn't use a multiline string:"
   ]
  },
  {
   "cell_type": "code",
   "execution_count": 11,
   "metadata": {},
   "outputs": [
    {
     "name": "stdout",
     "output_type": "stream",
     "text": [
      "Dear Alice,\n",
      "\n",
      "Eve's cat has been arrested for catnapping, cat burglary, and extortion.\n",
      "\n",
      "Sincerely,\n",
      "Bob\n"
     ]
    }
   ],
   "source": [
    "print('Dear Alice,\\n\\nEve\\'s cat has been arrested for catnapping, cat burglary, and extortion.\\n\\nSincerely,\\nBob')"
   ]
  },
  {
   "cell_type": "markdown",
   "metadata": {},
   "source": [
    "## Multiline comments\n",
    "\n",
    "While the hash character (#) marks the beginning of a comment for the rest of the line, a muliline string is often used for comments that span multiple lines. "
   ]
  },
  {
   "cell_type": "code",
   "execution_count": 15,
   "metadata": {},
   "outputs": [
    {
     "data": {
      "text/plain": [
       "'This is a test Python program. \\nWritten by Al Sweigart \\n\\nThis program was designed for Python 3, not Python 2.\\n'"
      ]
     },
     "execution_count": 15,
     "metadata": {},
     "output_type": "execute_result"
    }
   ],
   "source": [
    "\"\"\"This is a test Python program. \n",
    "Written by Al Sweigart \n",
    "\n",
    "This program was designed for Python 3, not Python 2.\n",
    "\"\"\""
   ]
  },
  {
   "cell_type": "markdown",
   "metadata": {},
   "source": [
    "## Indexing and slicing strings\n",
    "\n",
    "Strings use indexes and slices the same way lists do. You can think of the string `Hello World!` as a list and each character in the string as an item with a corresponding index. The space and exclamation mark are included in the character count, so `Hello World!` is 12 characters long, from `H` at index 0 to `!` at index 11. "
   ]
  },
  {
   "cell_type": "code",
   "execution_count": 21,
   "metadata": {},
   "outputs": [
    {
     "name": "stdout",
     "output_type": "stream",
     "text": [
      "H\n",
      "!\n",
      "Hello\n",
      "World!\n"
     ]
    }
   ],
   "source": [
    "spam = \"Hello World!\"\n",
    "print(spam[0])\n",
    "print(spam[-1])\n",
    "print(spam[0:5])\n",
    "print(spam[6:])"
   ]
  },
  {
   "cell_type": "markdown",
   "metadata": {},
   "source": [
    "If you specify an index, you'll get the character at the position in the string. If you specify a range from one index to another, the starting index is INCLUDED and the ending index is NOT INCLUDED. \n",
    "\n",
    "Slicing does not modify the original string. You can capture a slice from one variable in a separate variable. "
   ]
  },
  {
   "cell_type": "code",
   "execution_count": 22,
   "metadata": {},
   "outputs": [
    {
     "name": "stdout",
     "output_type": "stream",
     "text": [
      "Hello\n"
     ]
    }
   ],
   "source": [
    "spam = \"Hello World!\"\n",
    "fizz = spam[0:5]\n",
    "print(fizz)"
   ]
  },
  {
   "cell_type": "markdown",
   "metadata": {},
   "source": [
    "# The IN and NOT IN operators with strings\n",
    "\n",
    "The `in` and `not in` operators can be used with strings just like with list values. An expression with two strings joined using `in` or `not in` will evaluate to a Boolean `True` or `False`. "
   ]
  },
  {
   "cell_type": "code",
   "execution_count": 23,
   "metadata": {},
   "outputs": [
    {
     "data": {
      "text/plain": [
       "True"
      ]
     },
     "execution_count": 23,
     "metadata": {},
     "output_type": "execute_result"
    }
   ],
   "source": [
    "\"Hello\" in \"Hello World!\""
   ]
  },
  {
   "cell_type": "code",
   "execution_count": 24,
   "metadata": {},
   "outputs": [
    {
     "data": {
      "text/plain": [
       "False"
      ]
     },
     "execution_count": 24,
     "metadata": {},
     "output_type": "execute_result"
    }
   ],
   "source": [
    "\"Hello\" in \"HELLO\""
   ]
  },
  {
   "cell_type": "code",
   "execution_count": 25,
   "metadata": {},
   "outputs": [
    {
     "data": {
      "text/plain": [
       "True"
      ]
     },
     "execution_count": 25,
     "metadata": {},
     "output_type": "execute_result"
    }
   ],
   "source": [
    "\"\" in \"spam\""
   ]
  },
  {
   "cell_type": "code",
   "execution_count": 26,
   "metadata": {},
   "outputs": [
    {
     "data": {
      "text/plain": [
       "False"
      ]
     },
     "execution_count": 26,
     "metadata": {},
     "output_type": "execute_result"
    }
   ],
   "source": [
    "\"cats\" not in \"cats and dogs\""
   ]
  },
  {
   "cell_type": "markdown",
   "metadata": {},
   "source": [
    "These expressions test whether the first string (the exact string, case sensitive) can be found within the second string."
   ]
  },
  {
   "cell_type": "markdown",
   "metadata": {},
   "source": [
    "## Using string methods\n",
    "\n",
    "Several string methods analyse strings or create transformed string values. \n",
    "\n",
    "## The `UPPER()`, `LOWER()`, `ISUPPER()`, and `ISLOWER()`string methods\n",
    "\n",
    "The `upper()` and `lower()` string methods return a new string where all the letters in the original string have been converted to uppercase and lowercase, respectively. Nonletter characters in the string remain unchanged. "
   ]
  },
  {
   "cell_type": "code",
   "execution_count": 34,
   "metadata": {},
   "outputs": [
    {
     "name": "stdout",
     "output_type": "stream",
     "text": [
      "HELLO WORLD!\n",
      "HELLO WORLD!\n"
     ]
    }
   ],
   "source": [
    "spam = \"Hello World!\"\n",
    "print (spam.upper())\n",
    "spam = spam.upper()\n",
    "print (spam)"
   ]
  },
  {
   "cell_type": "code",
   "execution_count": 33,
   "metadata": {},
   "outputs": [
    {
     "name": "stdout",
     "output_type": "stream",
     "text": [
      "hello world!\n"
     ]
    }
   ],
   "source": [
    "spam = spam.lower()\n",
    "print (spam)"
   ]
  },
  {
   "cell_type": "markdown",
   "metadata": {},
   "source": [
    "Note that these methods do not change the string itself, but return new string values. If you want to change the original string, you have to call `upper()` or `lower()` on the string and then assign the new string to the variable where the original was stored. This is why you must use `spam = spam.upper()` to change the string in `spam` instead of simply `spam.upper()`.\n",
    "\n",
    "The `upper()` and `lower()` methods are helpful if you need to make a case-sensitive comparison. The strings `great` and `GREat` are not equal to each other. But in the following small program, it doesn't matter whether the user types `Great`, `GREAT` or `grEAT`, because the string is converted first to lowercase."
   ]
  },
  {
   "cell_type": "code",
   "execution_count": 2,
   "metadata": {},
   "outputs": [
    {
     "name": "stdout",
     "output_type": "stream",
     "text": [
      "How are you?\n",
      "GReat\n",
      "I feel great too!\n"
     ]
    }
   ],
   "source": [
    "print (\"How are you?\")\n",
    "feeling = input()\n",
    "if feeling.lower() == \"great\":\n",
    "    print (\"I feel great too!\")\n",
    "else:\n",
    "        print (\"I hope the rest of your day is good.\")"
   ]
  },
  {
   "cell_type": "markdown",
   "metadata": {},
   "source": [
    "Adding code to your program to handle variations or mistakes in user input, such as inconsistent capitalisation, will make your programs easier to use and less likely to fail."
   ]
  },
  {
   "cell_type": "markdown",
   "metadata": {},
   "source": [
    "The `isupper()` and `islower()` will return a Boolean `True` value if the string has at least one letter and all the letters are uppercase or lowercase, respectively. Otherwise, the method returns `False`."
   ]
  },
  {
   "cell_type": "code",
   "execution_count": 3,
   "metadata": {
    "collapsed": true
   },
   "outputs": [],
   "source": [
    "spam = \"Hello World!\""
   ]
  },
  {
   "cell_type": "code",
   "execution_count": 4,
   "metadata": {},
   "outputs": [
    {
     "data": {
      "text/plain": [
       "False"
      ]
     },
     "execution_count": 4,
     "metadata": {},
     "output_type": "execute_result"
    }
   ],
   "source": [
    "spam.islower()"
   ]
  },
  {
   "cell_type": "code",
   "execution_count": 5,
   "metadata": {},
   "outputs": [
    {
     "data": {
      "text/plain": [
       "False"
      ]
     },
     "execution_count": 5,
     "metadata": {},
     "output_type": "execute_result"
    }
   ],
   "source": [
    "spam.isupper()"
   ]
  },
  {
   "cell_type": "code",
   "execution_count": 6,
   "metadata": {},
   "outputs": [
    {
     "data": {
      "text/plain": [
       "True"
      ]
     },
     "execution_count": 6,
     "metadata": {},
     "output_type": "execute_result"
    }
   ],
   "source": [
    "\"abcd12335\".islower()"
   ]
  },
  {
   "cell_type": "code",
   "execution_count": 7,
   "metadata": {},
   "outputs": [
    {
     "data": {
      "text/plain": [
       "False"
      ]
     },
     "execution_count": 7,
     "metadata": {},
     "output_type": "execute_result"
    }
   ],
   "source": [
    "\"12345324\".islower()"
   ]
  },
  {
   "cell_type": "markdown",
   "metadata": {},
   "source": [
    "Since the `upper()` and `lower()` methods themselves return strings, you can call string methods on those returned string values as well. Expressions that do this will look like a chain of method calls."
   ]
  },
  {
   "cell_type": "code",
   "execution_count": 8,
   "metadata": {},
   "outputs": [
    {
     "name": "stdout",
     "output_type": "stream",
     "text": [
      "HELLO\n"
     ]
    }
   ],
   "source": [
    "print (\"Hello\".upper())"
   ]
  },
  {
   "cell_type": "code",
   "execution_count": 9,
   "metadata": {},
   "outputs": [
    {
     "name": "stdout",
     "output_type": "stream",
     "text": [
      "hello\n"
     ]
    }
   ],
   "source": [
    "print (\"Hello\".upper().lower())"
   ]
  },
  {
   "cell_type": "markdown",
   "metadata": {},
   "source": [
    "## The isX string methods\n",
    "\n",
    "Along with `islower()`and `isupper()`, there are several methods that have names beginning with the word `is`. These methods return a Boolean value that describes the nature of the string. Here are some common `isX`string methods:"
   ]
  },
  {
   "cell_type": "markdown",
   "metadata": {},
   "source": [
    "* `isalpha()`. Returns `True` if string consists only of letters and is not blank.\n",
    "\n",
    "* `isalnum()`. Returns `True` if string consists only of letters and numbers and is not blank.\n",
    "\n",
    "* `isdecimal()`. Retruns `True` if string consists only of numeric characters and is not blank. \n",
    "\n",
    "* `isspace()`. Returns `True`if string consists of only spaces, tabs, and new-lines and is not blank.\n",
    "\n",
    "* `istitle()`. Returns `True` if string consists only of words that begin with an uppercase letter followed by only lowercase letters."
   ]
  },
  {
   "cell_type": "code",
   "execution_count": 10,
   "metadata": {},
   "outputs": [
    {
     "data": {
      "text/plain": [
       "True"
      ]
     },
     "execution_count": 10,
     "metadata": {},
     "output_type": "execute_result"
    }
   ],
   "source": [
    "\"hello\".isalpha()\n"
   ]
  },
  {
   "cell_type": "code",
   "execution_count": 11,
   "metadata": {},
   "outputs": [
    {
     "data": {
      "text/plain": [
       "True"
      ]
     },
     "execution_count": 11,
     "metadata": {},
     "output_type": "execute_result"
    }
   ],
   "source": [
    "\"hello\".isalnum()"
   ]
  },
  {
   "cell_type": "code",
   "execution_count": 12,
   "metadata": {},
   "outputs": [
    {
     "data": {
      "text/plain": [
       "True"
      ]
     },
     "execution_count": 12,
     "metadata": {},
     "output_type": "execute_result"
    }
   ],
   "source": [
    "\"1234\".isalnum()\n"
   ]
  },
  {
   "cell_type": "markdown",
   "metadata": {},
   "source": [
    "The `isX`string methods are helpful when you need to validate user input. "
   ]
  },
  {
   "cell_type": "code",
   "execution_count": 20,
   "metadata": {},
   "outputs": [
    {
     "name": "stdout",
     "output_type": "stream",
     "text": [
      "Enter your age:\n",
      "Five\n",
      "Please enter a number for your age.\n",
      "Enter your age:\n",
      "15\n",
      "Select a new password (letters and numbers only):\n",
      "www9)\n",
      "Passwords can only have letters and numbers!\n",
      "Select a new password (letters and numbers only):\n",
      "wwi8\n"
     ]
    }
   ],
   "source": [
    "\n",
    "while True:\n",
    "    print (\"Enter your age:\")\n",
    "    age = input()\n",
    "    if age.isdecimal():\n",
    "        break\n",
    "    print (\"Please enter a number for your age.\")\n",
    "\n",
    "while True:\n",
    "    print (\"Select a new password (letters and numbers only):\")\n",
    "    password = input()\n",
    "    if password.isalnum():\n",
    "        break\n",
    "    print (\"Passwords can only have letters and numbers!\")"
   ]
  },
  {
   "cell_type": "markdown",
   "metadata": {},
   "source": [
    "Calling `isdecimal()` and `isalnum()` on variables, we're able to test whether the values stored in those variables are decimal or not, alphanumerical or not. "
   ]
  },
  {
   "cell_type": "markdown",
   "metadata": {},
   "source": [
    "## The `startswith()` and `endswith()` string methods\n",
    "\n",
    "They return `True` if the string value they are called on begins or ends with, respectively, the string passed to the method; otherwise they return `False`. "
   ]
  },
  {
   "cell_type": "code",
   "execution_count": 21,
   "metadata": {},
   "outputs": [
    {
     "data": {
      "text/plain": [
       "True"
      ]
     },
     "execution_count": 21,
     "metadata": {},
     "output_type": "execute_result"
    }
   ],
   "source": [
    "\"Hello World\".startswith(\"Hello\")"
   ]
  },
  {
   "cell_type": "code",
   "execution_count": 22,
   "metadata": {},
   "outputs": [
    {
     "data": {
      "text/plain": [
       "True"
      ]
     },
     "execution_count": 22,
     "metadata": {},
     "output_type": "execute_result"
    }
   ],
   "source": [
    "\"abs12312\".endswith(\"12\")"
   ]
  },
  {
   "cell_type": "markdown",
   "metadata": {},
   "source": [
    "These methods are useful alternatives to the == operator if you need ot check only whether the first or last part of the string, rather than the whole thing, is equal to another string."
   ]
  },
  {
   "cell_type": "markdown",
   "metadata": {},
   "source": [
    "## The `join()`and `split()` string methods\n",
    "\n",
    "The `join()` method is useful when you have a list of strings that need to be joined together into a single value. The `join()` method is called on a string, gets passed a list of strings and returns a string. The returned string is the concatenation of each string in the passed-in list. "
   ]
  },
  {
   "cell_type": "code",
   "execution_count": 25,
   "metadata": {},
   "outputs": [
    {
     "data": {
      "text/plain": [
       "'cats, rats, bats'"
      ]
     },
     "execution_count": 25,
     "metadata": {},
     "output_type": "execute_result"
    }
   ],
   "source": [
    "\", \".join([\"cats\", \"rats\", \"bats\"])"
   ]
  },
  {
   "cell_type": "code",
   "execution_count": 26,
   "metadata": {},
   "outputs": [
    {
     "data": {
      "text/plain": [
       "'My name is Simon'"
      ]
     },
     "execution_count": 26,
     "metadata": {},
     "output_type": "execute_result"
    }
   ],
   "source": [
    "\" \".join([\"My\", \"name\", \"is\", \"Simon\"])"
   ]
  },
  {
   "cell_type": "code",
   "execution_count": 27,
   "metadata": {},
   "outputs": [
    {
     "data": {
      "text/plain": [
       "'MyABSCSDSDnameABSCSDSDisABSCSDSDSimon'"
      ]
     },
     "execution_count": 27,
     "metadata": {},
     "output_type": "execute_result"
    }
   ],
   "source": [
    "\"ABSCSDSD\".join([\"My\", \"name\", \"is\", \"Simon\"])"
   ]
  },
  {
   "cell_type": "markdown",
   "metadata": {},
   "source": [
    "Notice that the string `join()` calls on is inserted between each string of the list argument. Remember that `join()` is called on a string value and returns a list of strings. \n",
    "\n",
    "The `split()` does the opposite: it's called on a string value and returns a list of strings. "
   ]
  },
  {
   "cell_type": "code",
   "execution_count": 28,
   "metadata": {},
   "outputs": [
    {
     "data": {
      "text/plain": [
       "['My', 'name', 'is', 'Simon!']"
      ]
     },
     "execution_count": 28,
     "metadata": {},
     "output_type": "execute_result"
    }
   ],
   "source": [
    "\"My name is Simon!\".split()"
   ]
  },
  {
   "cell_type": "markdown",
   "metadata": {},
   "source": [
    "By default the string is split wherever whitespace characters such as the space, tab or newline characters are found. These whitespace characters are not included in the strings in the returned list. You can pass a delimiter string to the `split()` method to specify a different string to split upon. "
   ]
  },
  {
   "cell_type": "code",
   "execution_count": 29,
   "metadata": {},
   "outputs": [
    {
     "data": {
      "text/plain": [
       "['My', 'name', 'is', 'Simon']"
      ]
     },
     "execution_count": 29,
     "metadata": {},
     "output_type": "execute_result"
    }
   ],
   "source": [
    "'MyABCnameABCisABCSimon'.split('ABC')"
   ]
  },
  {
   "cell_type": "code",
   "execution_count": 30,
   "metadata": {},
   "outputs": [
    {
     "data": {
      "text/plain": [
       "['My na', 'e is Si', 'on']"
      ]
     },
     "execution_count": 30,
     "metadata": {},
     "output_type": "execute_result"
    }
   ],
   "source": [
    "\"My name is Simon\".split(\"m\")"
   ]
  },
  {
   "cell_type": "markdown",
   "metadata": {},
   "source": [
    "A common use of `split()` is to split a multiline string along the newline characters."
   ]
  },
  {
   "cell_type": "code",
   "execution_count": 32,
   "metadata": {},
   "outputs": [
    {
     "data": {
      "text/plain": [
       "['Dear Alice,',\n",
       " 'How have you been? I am fine.',\n",
       " 'There is a container in the fridge',\n",
       " 'that is labeled \"Milk Experiment\".',\n",
       " '',\n",
       " 'Please do not drink it.',\n",
       " 'Sincerely,',\n",
       " 'Bob']"
      ]
     },
     "execution_count": 32,
     "metadata": {},
     "output_type": "execute_result"
    }
   ],
   "source": [
    "spam = '''Dear Alice,\n",
    "How have you been? I am fine.\n",
    "There is a container in the fridge\n",
    "that is labeled \"Milk Experiment\".\n",
    "\n",
    "Please do not drink it.\n",
    "Sincerely,\n",
    "Bob'''\n",
    "\n",
    "spam.split(\"\\n\")"
   ]
  },
  {
   "cell_type": "markdown",
   "metadata": {},
   "source": [
    "Passing the `split()` argument `\\n` lets us split the multiline string stored in `spam` along the newlines and return a list in which each item corresponds to one line of the string. "
   ]
  },
  {
   "cell_type": "markdown",
   "metadata": {},
   "source": [
    "## Justifying text with `rjust()`, `ljust()` and `center()`\n",
    "\n",
    "The `rjust()` and `ljust()` string methods return a padded version of the string they are called on, with spaces inserted to justify the text. The first argument to both methods is an integer length for the justified string.  "
   ]
  },
  {
   "cell_type": "code",
   "execution_count": 33,
   "metadata": {},
   "outputs": [
    {
     "data": {
      "text/plain": [
       "'     Hello'"
      ]
     },
     "execution_count": 33,
     "metadata": {},
     "output_type": "execute_result"
    }
   ],
   "source": [
    "\"Hello\".rjust(10)"
   ]
  },
  {
   "cell_type": "code",
   "execution_count": 34,
   "metadata": {},
   "outputs": [
    {
     "data": {
      "text/plain": [
       "'               Hello'"
      ]
     },
     "execution_count": 34,
     "metadata": {},
     "output_type": "execute_result"
    }
   ],
   "source": [
    "\"Hello\".rjust(20)"
   ]
  },
  {
   "cell_type": "code",
   "execution_count": 35,
   "metadata": {},
   "outputs": [
    {
     "data": {
      "text/plain": [
       "'Hello World         '"
      ]
     },
     "execution_count": 35,
     "metadata": {},
     "output_type": "execute_result"
    }
   ],
   "source": [
    "\"Hello World\".ljust(20)"
   ]
  },
  {
   "cell_type": "markdown",
   "metadata": {},
   "source": [
    "`\"Hello\".rjust(10)` says that we want to right-justify `Hello` in a string of total length 10. `Hello` is five characters, so five spaces will be added to its left, giving a string of 10 characters with `Hello` justified right.\n",
    "\n",
    "As an optional argument to `rjust()` and `ljust()` will specify a fill character other than a space character"
   ]
  },
  {
   "cell_type": "code",
   "execution_count": 36,
   "metadata": {},
   "outputs": [
    {
     "data": {
      "text/plain": [
       "'?????Hello'"
      ]
     },
     "execution_count": 36,
     "metadata": {},
     "output_type": "execute_result"
    }
   ],
   "source": [
    "\"Hello\".rjust(10, \"?\")"
   ]
  },
  {
   "cell_type": "code",
   "execution_count": 37,
   "metadata": {},
   "outputs": [
    {
     "data": {
      "text/plain": [
       "'Hello---------------'"
      ]
     },
     "execution_count": 37,
     "metadata": {},
     "output_type": "execute_result"
    }
   ],
   "source": [
    "\"Hello\".ljust(20, \"-\")"
   ]
  },
  {
   "cell_type": "code",
   "execution_count": 38,
   "metadata": {},
   "outputs": [
    {
     "data": {
      "text/plain": [
       "'============Hello============='"
      ]
     },
     "execution_count": 38,
     "metadata": {},
     "output_type": "execute_result"
    }
   ],
   "source": [
    "\"Hello\".center(30, \"=\")"
   ]
  },
  {
   "cell_type": "markdown",
   "metadata": {},
   "source": [
    "These methods are especially useful when you need to print tabular data that has the correct spacing. \n",
    "\n",
    "Using `rjust()`, `ljust()` and `center()` lets you ensure strings are neatly aligned, even if you aren't sure how many characters long your strings are. We can for example take a dictionary information and print it in a neatly aligned table format."
   ]
  },
  {
   "cell_type": "code",
   "execution_count": 45,
   "metadata": {},
   "outputs": [
    {
     "name": "stdout",
     "output_type": "stream",
     "text": [
      "---PICNIC ITEMS--\n",
      "sandwiches..    4\n",
      "apples......   12\n",
      "cups........    4\n",
      "cookies..... 8000\n",
      "\n",
      "\n",
      "-------PICNIC ITEMS-------\n",
      "sandwiches..........     4\n",
      "apples..............    12\n",
      "cups................     4\n",
      "cookies.............  8000\n"
     ]
    }
   ],
   "source": [
    "# We want to organise the information about picnic items into a table\n",
    "# with two columns; items left, number right\n",
    "\n",
    "# We have a function that takes a dictionary and two numbers as arguments\n",
    "def printPicnic(itemsDict, leftWidth, rightWidth):\n",
    "    \n",
    "    # Print the title of the table\n",
    "    print (\"PICNIC ITEMS\".center(leftWidth + rightWidth, \"-\"))\n",
    "    \n",
    "    # k = key in dictionary; v = value in dictionary\n",
    "    # Adjust k to the left and fill with dots to leftWidth\n",
    "    # Make string out of v, adjust right, fill with space to rightWidth\n",
    "    for k, v in itemsDict.items():\n",
    "        print(k.ljust(leftWidth, \".\") + str(v).rjust(rightWidth))\n",
    "        \n",
    "# dictionary picnicItems of picnic items and numbers\n",
    "picnicItems = {\"sandwiches\": 4, \"apples\": 12, \"cups\": 4, \"cookies\": 8000}\n",
    "\n",
    "#The 3 arguments in the printPicnic function are which dictionary (picnicItems,\n",
    "# which leftWidth (12 or 20) and which rightWidth (5 or 6)). leftWidth = width\n",
    "# of left column, rightWidth = width of right column\n",
    "printPicnic(picnicItems, 12, 5)\n",
    "print (\"\\n\")\n",
    "printPicnic(picnicItems, 20, 6)"
   ]
  },
  {
   "cell_type": "markdown",
   "metadata": {},
   "source": [
    "## Removing whitespace with `strip()`, `rstrip()` and `lstrip()`\n",
    "\n",
    "Sometimes you may want to strip off whitespace characters (space, tab and newline) from the left side, right side, or both sides of a string. The `strip()` string method will return a new string without any whitespace characters at the beginning or end. The `lstrip()` and `rstrip()` methods will remove whitespace characters from the left and right ends, respectively. "
   ]
  },
  {
   "cell_type": "code",
   "execution_count": 49,
   "metadata": {},
   "outputs": [
    {
     "name": "stdout",
     "output_type": "stream",
     "text": [
      "         Hello World         \n",
      "Hello World\n",
      "Hello World         \n",
      "         Hello World\n"
     ]
    }
   ],
   "source": [
    "spam = \"         Hello World         \"\n",
    "print (spam)\n",
    "print (spam.strip())\n",
    "print (spam.lstrip())\n",
    "print (spam.rstrip())"
   ]
  },
  {
   "cell_type": "markdown",
   "metadata": {},
   "source": [
    "Optionally, a string argument will specify which characters on the ends should be stripped. \n",
    "Passing `strip()` the argument `ampS` will tell it to strip occurences of `a, m, p` and `S` from the end of strings stored in `spam`. The order of characters in the string passed to `strip` does not matter: `strip(\"ampS\")` will do the same thing as `strip(\"mapS\")` or `strip(\"Sapm\")`."
   ]
  },
  {
   "cell_type": "code",
   "execution_count": 53,
   "metadata": {},
   "outputs": [
    {
     "name": "stdout",
     "output_type": "stream",
     "text": [
      "BaconSpamEggsBacon\n"
     ]
    }
   ],
   "source": [
    "spam = \"SpamSpamBaconSpamEggsBaconSpam\"\n",
    "print (spam.strip(\"aSmp\"))"
   ]
  },
  {
   "cell_type": "markdown",
   "metadata": {},
   "source": [
    "## Copying and pasting strings with the pyperclip module\n",
    "\n",
    "The `pyperclip` module has `copy()` and `paste()` functions that can send text to and receive text from your computer's clipboard. Sending the output of your program to the clipboard will make it easy to paste it into an email, word processor or some software.\n",
    "\n",
    "Pyperclip doesn't come with Python. You have to install and import it first."
   ]
  },
  {
   "cell_type": "code",
   "execution_count": 58,
   "metadata": {},
   "outputs": [
    {
     "name": "stdout",
     "output_type": "stream",
     "text": [
      "Hello World\n"
     ]
    }
   ],
   "source": [
    "import pyperclip\n",
    "pyperclip.copy (\"Hello World\")\n",
    "print (pyperclip.paste())"
   ]
  },
  {
   "cell_type": "markdown",
   "metadata": {},
   "source": [
    "Of course if something outside of your program changes the clipboard contents, the `paste()` function will return it. "
   ]
  },
  {
   "cell_type": "code",
   "execution_count": 57,
   "metadata": {},
   "outputs": [
    {
     "name": "stdout",
     "output_type": "stream",
     "text": [
      "o install it, follow the directions for installing third-party modules in Appendix A.\n"
     ]
    }
   ],
   "source": [
    "# Copy something e.g. from your browser window and then return it here\n",
    "\n",
    "print (pyperclip.paste())"
   ]
  },
  {
   "cell_type": "markdown",
   "metadata": {},
   "source": [
    "# Project: Password Locker\n",
    "\n",
    "Create a password manager that uses one master password to unlock the password manager. Then you can copy any account password to the clipboard and paste it into the website’s Password field.\n",
    "\n",
    "\n",
    "## Step 1: Program design and data structures\n",
    "\n",
    "You want to be able to run this program with a command line argument that is the account’s name—for instance, email or blog. That account’s password will be copied to the clipboard so that the user can paste it into a Password field. This way, the user can have long, complicated passwords without having to memorize them.\n",
    "\n",
    "Open a new file editor window and save the program as pw.py. You need to start the program with a `#!` (shebang) line (see Appendix B) and should also write a comment that briefly describes the program. Since you want to associate each account’s name with its password, you can store these as strings in a dictionary. The dictionary will be the data structure that organizes your account and password data. Make your program look like the following:\n",
    "\n",
    "`#! python3`\n",
    "\n",
    "`# pw.py - An insecure password locker program.`\n",
    "\n",
    "`PASSWORDS = {'email': 'F7minlBDDuvMJuxESSKHFhTxFtjVB6',`\n",
    "\n",
    "             `'blog': 'VmALvQyKAxiVH5G8v01if1MLZF3sdt',`\n",
    "             \n",
    "             `'luggage': '12345'}`"
   ]
  },
  {
   "cell_type": "markdown",
   "metadata": {},
   "source": [
    "## Step 2: Handle command line arguments\n",
    "\n",
    "The command line arguments will be stored in the variable `sys.argv`. (See Appendix B for more information on how to use command line arguments in your programs.) The first item in the `sys.argv` list should always be a string containing the program’s filename ('pw.py'), and the second item should be the first command line argument. For this program, this argument is the name of the account whose password you want. Since the command line argument is mandatory, you display a usage message to the user if they forget to add it (that is, if the sys.argv list has fewer than two values in it). Make your program look like the following:\n",
    "\n",
    "`import sys`\n",
    "\n",
    "`if len(sys.argv) <2:`\n",
    "\n",
    "    `print(\"Usage: python pw.py [account] - copy account password\")`\n",
    "    \n",
    "    `sys.exit()`"
   ]
  },
  {
   "cell_type": "markdown",
   "metadata": {
    "collapsed": true
   },
   "source": [
    "## Step 3: Copy the right password\n",
    "\n",
    "Now that the account name is stored as a string in the variable `account`, you need to see whether it exists in the `PASSWORDS` dictionary as a key. If so, you want to copy the key’s value to the clipboard using `pyperclip.copy()`. (Since you’re using the pyperclip module, you need to import it.) Note that you don’t actually need the account variable; you could just use `sys.argv[1]` everywhere `account` is used in this program. But a variable named `account` is much more readable than something cryptic like `sys.argv[1]`.\n",
    "\n",
    "`import pyperclip`\n",
    "\n",
    "`if account in PASSWORDS:`\n",
    "\n",
    "    `pyperclip.copy(PASSWORDS[account])`\n",
    "    \n",
    "    `print (\"Password for \" + account + \" copied to clipboard.\")`\n",
    "\n",
    "`else:`\n",
    "    \n",
    "    `print (\"There is no account named \" + account)`\n",
    "    \n"
   ]
  },
  {
   "cell_type": "code",
   "execution_count": null,
   "metadata": {
    "collapsed": true
   },
   "outputs": [],
   "source": []
  }
 ],
 "metadata": {
  "kernelspec": {
   "display_name": "Python 3",
   "language": "python",
   "name": "python3"
  },
  "language_info": {
   "codemirror_mode": {
    "name": "ipython",
    "version": 3
   },
   "file_extension": ".py",
   "mimetype": "text/x-python",
   "name": "python",
   "nbconvert_exporter": "python",
   "pygments_lexer": "ipython3",
   "version": "3.6.3"
  }
 },
 "nbformat": 4,
 "nbformat_minor": 2
}
